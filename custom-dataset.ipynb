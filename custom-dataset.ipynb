{
 "cells": [
  {
   "cell_type": "code",
   "execution_count": 163,
   "id": "3945d22e-fb50-486c-b72d-1d84b3d23a45",
   "metadata": {},
   "outputs": [],
   "source": [
    "import pandas as pd\n",
    "import numpy as np\n",
    "import matplotlib.pyplot as plt\n",
    "import matplotlib.image as mpimg\n",
    "\n",
    "import torch\n",
    "import torchvision\n",
    "import torchvision.transforms as transforms\n",
    "\n",
    "from PIL import Image\n",
    "\n",
    "img_dir = \"images/train/\"\n",
    "\n",
    "csv_file = \"products.csv\"\n",
    "\n",
    "products = pd.read_csv(\"products.csv\")\n",
    "\n",
    "# number search based dictionary for each class\n",
    "gs1_form_dict = { i:val for i, val in enumerate(list(np.unique(products['GS1 Form'])))}\n",
    "material_dict = { i:val for i, val in enumerate(list(np.unique(products['Material'])))}\n",
    "colour_dict = { i:val for i, val in enumerate(list(np.unique(products['Colour'])))}\n",
    "\n",
    "# Define relevant variables for the ML task\n",
    "batch_size = 64\n",
    "num_classes = len(labels_all)\n",
    "learning_rate = 0.001\n",
    "num_epochs = 20\n",
    "\n",
    "# normalizing data ...\n",
    "transform = transforms.Compose([\n",
    "    transforms.Resize((32, 32)),\n",
    "    transforms.ToTensor(),\n",
    "    transforms.Normalize(mean=[0.4914, 0.4822, 0.4465],\n",
    "                         std=[0.2023, 0.1994, 0.2010])\n",
    "])\n",
    "\n",
    "# Device will determine whether to run the training on GPU or CPU.\n",
    "\n",
    "# device = torch.device('cuda' if torch.cuda.is_available() else 'cpu')"
   ]
  },
  {
   "cell_type": "code",
   "execution_count": 164,
   "id": "28e91ebe-0a1e-45d9-a1a7-9f01e99eedda",
   "metadata": {},
   "outputs": [],
   "source": [
    "\"\"\"Loading data with PyTorch\"\"\"\n",
    "\n",
    "from torch.utils.data import DataLoader, Dataset\n",
    "import random\n",
    "import os\n",
    "\n",
    "class MultiLabelDataset(Dataset):\n",
    "    def __init__(self, img_dir, csv_file, transform=None):\n",
    "        self.dataframe = pd.read_csv(csv_file)\n",
    "        self.img_dir = img_dir\n",
    "        self.img_paths = [str(barcode) + '.jpg' for barcode in self.dataframe['Barcode'].values]\n",
    "        self.labels = {'GS1 Form':self.dataframe['GS1 Form'].values, 'Material':self.dataframe['Material'].values, 'Colour':self.dataframe['Colour'].values}\n",
    "        \n",
    "        # dictionary for each class\n",
    "        self.gs1_form = { val:i for i, val in gs1_form_dict.items()}\n",
    "        self.material = { val:i for i, val in material_dict.items()}\n",
    "        self.colour = { val:i for i, val in colour_dict.items()}\n",
    "        \n",
    "        self.transform = transform\n",
    "\n",
    "    def __len__(self):\n",
    "        return len(self.img_paths)\n",
    "\n",
    "    def __getitem__(self, idx):\n",
    "        img_path = os.path.join(self.img_dir, self.img_paths[idx])\n",
    "        img = Image.open(img_path).convert('RGB')\n",
    "        \n",
    "        # num_classes = len(self.labels_all)\n",
    "        \n",
    "        label1 = torch.nn.functional.one_hot(torch.tensor(self.gs1_form[self.labels['GS1 Form'][idx]]), num_classes = len(self.gs1_form))\n",
    "        label2 = torch.nn.functional.one_hot(torch.tensor(self.material[self.labels['Material'][idx]]), num_classes = len(self.material))\n",
    "        label3 = torch.nn.functional.one_hot(torch.tensor(self.colour[self.labels['Colour'][idx]]), num_classes = len(self.colour))\n",
    "        \n",
    "        if self.transform:\n",
    "            img = self.transform(img)\n",
    "        return img, label1, label2, label3\n",
    "        \n",
    "\n",
    "\"\"\"Currently unused\"\"\"\n",
    "\n",
    "class MultiLabelDataLoader(DataLoader):\n",
    "    def __init__(self, dataset, batch_size=batch_size, shuffle=False, num_workers=0):\n",
    "        super(MultiLabelDataLoader, self).__init__(dataset, batch_size=batch_size, shuffle=shuffle, num_workers=num_workers)\n",
    "\n",
    "    def __iter__(self):\n",
    "        for i, (data, label1, label2, label3) in enumerate(super().__iter__()):\n",
    "            yield (data, label1, label2, label3)\n",
    "\n",
    "    def __len__(self):\n",
    "        return len(self.dataset)  \n",
    "\n",
    "# Create an instance of the custom dataset class\n",
    "train_dataset = MultiLabelDataset(img_dir, csv_file, transform=transform)\n",
    "\n",
    "# Create an instance of the custom data loader class\n",
    "train_loader = DataLoader(train_dataset, batch_size=batch_size, shuffle=True)"
   ]
  },
  {
   "cell_type": "code",
   "execution_count": 165,
   "id": "e33bba27-e262-449f-b0ff-3da38f87bef1",
   "metadata": {},
   "outputs": [
    {
     "data": {
      "application/vnd.jupyter.widget-view+json": {
       "model_id": "455927c4d0ca4ac3992a82d3c76d1897",
       "version_major": 2,
       "version_minor": 0
      },
      "text/plain": [
       "Epoch 1:   0%|          | 0/157 [00:00<?, ?it/s]"
      ]
     },
     "metadata": {},
     "output_type": "display_data"
    },
    {
     "name": "stdout",
     "output_type": "stream",
     "text": [
      "Epoch [1/20], Loss: 0.2140\n"
     ]
    },
    {
     "data": {
      "application/vnd.jupyter.widget-view+json": {
       "model_id": "c43851427c114b2e95f2be513cad9a49",
       "version_major": 2,
       "version_minor": 0
      },
      "text/plain": [
       "Epoch 2:   0%|          | 0/157 [00:00<?, ?it/s]"
      ]
     },
     "metadata": {},
     "output_type": "display_data"
    },
    {
     "name": "stdout",
     "output_type": "stream",
     "text": [
      "Epoch [2/20], Loss: 1.0915\n"
     ]
    },
    {
     "data": {
      "application/vnd.jupyter.widget-view+json": {
       "model_id": "5d9c093fead149c3b87242b7f6c594f8",
       "version_major": 2,
       "version_minor": 0
      },
      "text/plain": [
       "Epoch 3:   0%|          | 0/157 [00:00<?, ?it/s]"
      ]
     },
     "metadata": {},
     "output_type": "display_data"
    },
    {
     "name": "stdout",
     "output_type": "stream",
     "text": [
      "Epoch [3/20], Loss: 0.2158\n"
     ]
    },
    {
     "data": {
      "application/vnd.jupyter.widget-view+json": {
       "model_id": "5a7fa6e7006f4822b5e19817c5f6cef0",
       "version_major": 2,
       "version_minor": 0
      },
      "text/plain": [
       "Epoch 4:   0%|          | 0/157 [00:00<?, ?it/s]"
      ]
     },
     "metadata": {},
     "output_type": "display_data"
    },
    {
     "name": "stdout",
     "output_type": "stream",
     "text": [
      "Epoch [4/20], Loss: 1.4106\n"
     ]
    },
    {
     "data": {
      "application/vnd.jupyter.widget-view+json": {
       "model_id": "2c010a6b2ae042719a3c2860917473c6",
       "version_major": 2,
       "version_minor": 0
      },
      "text/plain": [
       "Epoch 5:   0%|          | 0/157 [00:00<?, ?it/s]"
      ]
     },
     "metadata": {},
     "output_type": "display_data"
    },
    {
     "name": "stdout",
     "output_type": "stream",
     "text": [
      "Epoch [5/20], Loss: 0.2761\n"
     ]
    },
    {
     "data": {
      "application/vnd.jupyter.widget-view+json": {
       "model_id": "01157e1955dc4d938a6f5a921be11e52",
       "version_major": 2,
       "version_minor": 0
      },
      "text/plain": [
       "Epoch 6:   0%|          | 0/157 [00:00<?, ?it/s]"
      ]
     },
     "metadata": {},
     "output_type": "display_data"
    },
    {
     "name": "stdout",
     "output_type": "stream",
     "text": [
      "Epoch [6/20], Loss: 1.3000\n"
     ]
    },
    {
     "data": {
      "application/vnd.jupyter.widget-view+json": {
       "model_id": "be6c36ba11ee494eb6a13b9d9a808636",
       "version_major": 2,
       "version_minor": 0
      },
      "text/plain": [
       "Epoch 7:   0%|          | 0/157 [00:00<?, ?it/s]"
      ]
     },
     "metadata": {},
     "output_type": "display_data"
    },
    {
     "name": "stdout",
     "output_type": "stream",
     "text": [
      "Epoch [7/20], Loss: 0.1373\n"
     ]
    },
    {
     "data": {
      "application/vnd.jupyter.widget-view+json": {
       "model_id": "993014d1739a4ebcbfb999f2324d02bc",
       "version_major": 2,
       "version_minor": 0
      },
      "text/plain": [
       "Epoch 8:   0%|          | 0/157 [00:00<?, ?it/s]"
      ]
     },
     "metadata": {},
     "output_type": "display_data"
    },
    {
     "name": "stdout",
     "output_type": "stream",
     "text": [
      "Epoch [8/20], Loss: 0.0141\n"
     ]
    },
    {
     "data": {
      "application/vnd.jupyter.widget-view+json": {
       "model_id": "6c37a5079865462cb5426956483734b7",
       "version_major": 2,
       "version_minor": 0
      },
      "text/plain": [
       "Epoch 9:   0%|          | 0/157 [00:00<?, ?it/s]"
      ]
     },
     "metadata": {},
     "output_type": "display_data"
    },
    {
     "name": "stdout",
     "output_type": "stream",
     "text": [
      "Epoch [9/20], Loss: 0.0061\n"
     ]
    },
    {
     "data": {
      "application/vnd.jupyter.widget-view+json": {
       "model_id": "01df029d24df424182389556300e4670",
       "version_major": 2,
       "version_minor": 0
      },
      "text/plain": [
       "Epoch 10:   0%|          | 0/157 [00:00<?, ?it/s]"
      ]
     },
     "metadata": {},
     "output_type": "display_data"
    },
    {
     "name": "stdout",
     "output_type": "stream",
     "text": [
      "Epoch [10/20], Loss: 0.0006\n"
     ]
    },
    {
     "data": {
      "application/vnd.jupyter.widget-view+json": {
       "model_id": "7268bf7aa3924d33b741d609aec04a6e",
       "version_major": 2,
       "version_minor": 0
      },
      "text/plain": [
       "Epoch 11:   0%|          | 0/157 [00:00<?, ?it/s]"
      ]
     },
     "metadata": {},
     "output_type": "display_data"
    },
    {
     "name": "stdout",
     "output_type": "stream",
     "text": [
      "Epoch [11/20], Loss: 0.0011\n"
     ]
    },
    {
     "data": {
      "application/vnd.jupyter.widget-view+json": {
       "model_id": "97dacc200c1f4138a6e9c53ed630873f",
       "version_major": 2,
       "version_minor": 0
      },
      "text/plain": [
       "Epoch 12:   0%|          | 0/157 [00:00<?, ?it/s]"
      ]
     },
     "metadata": {},
     "output_type": "display_data"
    },
    {
     "name": "stdout",
     "output_type": "stream",
     "text": [
      "Epoch [12/20], Loss: 0.0978\n"
     ]
    },
    {
     "data": {
      "application/vnd.jupyter.widget-view+json": {
       "model_id": "45a277b6ce004811aa1ec89a82839110",
       "version_major": 2,
       "version_minor": 0
      },
      "text/plain": [
       "Epoch 13:   0%|          | 0/157 [00:00<?, ?it/s]"
      ]
     },
     "metadata": {},
     "output_type": "display_data"
    },
    {
     "name": "stdout",
     "output_type": "stream",
     "text": [
      "Epoch [13/20], Loss: 0.0077\n"
     ]
    },
    {
     "data": {
      "application/vnd.jupyter.widget-view+json": {
       "model_id": "b84ba7f3292a41aeb69773a9a058a555",
       "version_major": 2,
       "version_minor": 0
      },
      "text/plain": [
       "Epoch 14:   0%|          | 0/157 [00:00<?, ?it/s]"
      ]
     },
     "metadata": {},
     "output_type": "display_data"
    },
    {
     "name": "stdout",
     "output_type": "stream",
     "text": [
      "Epoch [14/20], Loss: 0.0004\n"
     ]
    },
    {
     "data": {
      "application/vnd.jupyter.widget-view+json": {
       "model_id": "24fa5970a6d449ba918ee8d0dbff6ae0",
       "version_major": 2,
       "version_minor": 0
      },
      "text/plain": [
       "Epoch 15:   0%|          | 0/157 [00:00<?, ?it/s]"
      ]
     },
     "metadata": {},
     "output_type": "display_data"
    },
    {
     "name": "stdout",
     "output_type": "stream",
     "text": [
      "Epoch [15/20], Loss: 0.0181\n"
     ]
    },
    {
     "data": {
      "application/vnd.jupyter.widget-view+json": {
       "model_id": "dfd81b21ffac4e569769a4925695467e",
       "version_major": 2,
       "version_minor": 0
      },
      "text/plain": [
       "Epoch 16:   0%|          | 0/157 [00:00<?, ?it/s]"
      ]
     },
     "metadata": {},
     "output_type": "display_data"
    },
    {
     "name": "stdout",
     "output_type": "stream",
     "text": [
      "Epoch [16/20], Loss: 0.0418\n"
     ]
    },
    {
     "data": {
      "application/vnd.jupyter.widget-view+json": {
       "model_id": "994e69f6b6f94f51ba73a055a8734129",
       "version_major": 2,
       "version_minor": 0
      },
      "text/plain": [
       "Epoch 17:   0%|          | 0/157 [00:00<?, ?it/s]"
      ]
     },
     "metadata": {},
     "output_type": "display_data"
    },
    {
     "name": "stdout",
     "output_type": "stream",
     "text": [
      "Epoch [17/20], Loss: 0.0048\n"
     ]
    },
    {
     "data": {
      "application/vnd.jupyter.widget-view+json": {
       "model_id": "2eff222ff9904af3a8b048d5f48d943a",
       "version_major": 2,
       "version_minor": 0
      },
      "text/plain": [
       "Epoch 18:   0%|          | 0/157 [00:00<?, ?it/s]"
      ]
     },
     "metadata": {},
     "output_type": "display_data"
    },
    {
     "name": "stdout",
     "output_type": "stream",
     "text": [
      "Epoch [18/20], Loss: 0.0017\n"
     ]
    },
    {
     "data": {
      "application/vnd.jupyter.widget-view+json": {
       "model_id": "ad2a0d5866b64356a632cede96329db9",
       "version_major": 2,
       "version_minor": 0
      },
      "text/plain": [
       "Epoch 19:   0%|          | 0/157 [00:00<?, ?it/s]"
      ]
     },
     "metadata": {},
     "output_type": "display_data"
    },
    {
     "name": "stdout",
     "output_type": "stream",
     "text": [
      "Epoch [19/20], Loss: 0.0012\n"
     ]
    },
    {
     "data": {
      "application/vnd.jupyter.widget-view+json": {
       "model_id": "f5d13ee674eb44d3b9b51058f98aa521",
       "version_major": 2,
       "version_minor": 0
      },
      "text/plain": [
       "Epoch 20:   0%|          | 0/157 [00:00<?, ?it/s]"
      ]
     },
     "metadata": {},
     "output_type": "display_data"
    },
    {
     "name": "stdout",
     "output_type": "stream",
     "text": [
      "Epoch [20/20], Loss: 0.0004\n"
     ]
    }
   ],
   "source": [
    "# Define a CNN model\n",
    "\n",
    "import torch.nn as nn\n",
    "import torch.nn.functional as F\n",
    "\n",
    "class MultiLabelCNN(torch.nn.Module):\n",
    "    def __init__(self):\n",
    "        super(MultiLabelCNN, self).__init__()\n",
    "        self.conv1 = nn.Conv2d(3, 32, 3)\n",
    "        self.conv2 = nn.Conv2d(32, 64, 3)\n",
    "\n",
    "        self.fc1 = nn.Linear(50176, 128)\n",
    "        self.fc2_1 = nn.Linear(128, 13) # for GS1 Form\n",
    "        self.fc2_2 = nn.Linear(128, 4) # for Material\n",
    "        self.fc2_3 = nn.Linear(128, 4) # for Colour\n",
    "\n",
    "    def forward(self, x):\n",
    "        x = self.conv1(x)\n",
    "        x = F.relu(x)\n",
    "        x = self.conv2(x)\n",
    "        x = F.relu(x)\n",
    "        \n",
    "        x = x.view(x.size(0), -1)\n",
    "        \n",
    "        x = self.fc1(x)\n",
    "        x = F.relu(x)\n",
    "        x1 = self.fc2_1(x) # GS1 Form\n",
    "        x2 = self.fc2_2(x) # Material\n",
    "        x3 = self.fc2_3(x) # Colour\n",
    "        return x1, x2, x3\n",
    "\n",
    "\n",
    "# Initialize model, loss function and optimizer\n",
    "model = MultiLabelCNN()\n",
    "\n",
    "criterion1 = nn.BCEWithLogitsLoss()\n",
    "criterion2 = nn.BCEWithLogitsLoss()\n",
    "criterion3 = nn.BCEWithLogitsLoss()\n",
    "\n",
    "optimizer = torch.optim.Adam(model.parameters(), lr=learning_rate)\n",
    "\n",
    "from tqdm.notebook import tqdm\n",
    "\n",
    "loss_graph = []\n",
    "\n",
    "# Train the model\n",
    "for epoch in range(num_epochs):\n",
    "    for i, (images, labels1, labels2, labels3) in enumerate(tqdm(train_loader, desc=(f'Epoch {epoch + 1}'))):\n",
    "        # Forward pass\n",
    "        output1, output2, output3 = model(images)\n",
    "        \n",
    "        loss1 = criterion1(output1, labels1.float())\n",
    "        loss2 = criterion2(output2, labels2.float())\n",
    "        loss3 = criterion3(output3, labels3.float())\n",
    "        \n",
    "        loss = loss1 + loss2 + loss3\n",
    "        \n",
    "        # Backward pass and optimization\n",
    "        optimizer.zero_grad()\n",
    "        loss.backward()\n",
    "        optimizer.step()\n",
    "    \n",
    "    loss_graph.append(loss.item())\n",
    "    print('Epoch [{}/{}], Loss: {:.4f}'.format(epoch+1, num_epochs, loss.item()))\n",
    "    "
   ]
  },
  {
   "cell_type": "code",
   "execution_count": 166,
   "id": "22ef27b7-6259-4ac0-b049-5d357731853f",
   "metadata": {},
   "outputs": [
    {
     "data": {
      "image/png": "[encoded data removed]",
      "text/plain": [
       "<Figure size 640x480 with 1 Axes>"
      ]
     },
     "metadata": {},
     "output_type": "display_data"
    }
   ],
   "source": [
    "# graphs\n",
    "\n",
    "# loss_graph = [0.5445, 0.1793, 1.9454, 0.4331, 0.3460, 0.0647, 0.0254, 0.0447, 0.0365, 0.0062, 0.0063, 0.0632, 0.0510, 0.0049, 0.0045, 0.0006, 0.0001, 0.0000, 0.0002, 0.0007]\n",
    "\n",
    "def graph_accuracy(accuracy):\n",
    "    plt.plot(accuracy)\n",
    "    plt.xlabel('Epoch')\n",
    "    plt.ylabel('Accuracy')\n",
    "    plt.show()\n",
    "    \n",
    "graph_accuracy(loss_graph)"
   ]
  },
  {
   "cell_type": "code",
   "execution_count": 167,
   "id": "65d28623-cf74-4411-925d-59f15766860f",
   "metadata": {},
   "outputs": [
    {
     "name": "stdout",
     "output_type": "stream",
     "text": [
      "Saved current model.\n"
     ]
    }
   ],
   "source": [
    "# saving model\n",
    "torch.save(model.state_dict(), \"models/model_batch_20new.pth\")\n",
    "print(\"Saved current model.\")"
   ]
  },
  {
   "cell_type": "code",
   "execution_count": 196,
   "id": "a356fcb3-2100-44f7-a8c5-d317776186ce",
   "metadata": {},
   "outputs": [
    {
     "data": {
      "text/plain": [
       "<All keys matched successfully>"
      ]
     },
     "execution_count": 196,
     "metadata": {},
     "output_type": "execute_result"
    }
   ],
   "source": [
    "# loading model\n",
    "model = MultiLabelCNN()\n",
    "model.load_state_dict(torch.load(\"models/model_batch_20new.pth\"))"
   ]
  },
  {
   "cell_type": "code",
   "execution_count": 212,
   "id": "67ad2e7c-4ee4-4822-84fe-96f6f297e035",
   "metadata": {},
   "outputs": [
    {
     "name": "stdout",
     "output_type": "stream",
     "text": [
      "bottle glass clear \n",
      "\n"
     ]
    },
    {
     "data": {
      "image/png": "[encoded data removed]",
      "text/plain": [
       "<Figure size 300x300 with 1 Axes>"
      ]
     },
     "metadata": {},
     "output_type": "display_data"
    }
   ],
   "source": [
    "# prediction testing\n",
    "\n",
    "img_path = 'images/test/test_1.jpg'\n",
    "\n",
    "img = Image.open(img_path)\n",
    "img = transform(img)\n",
    "img = img.view(1, 3, 32, 32)\n",
    "\n",
    "with torch.no_grad():\n",
    "    output1, output2, output3 = model(img)\n",
    "    pred1 = int(torch.argmax(output1, dim=1))\n",
    "    pred2 = int(torch.argmax(output2, dim=1))\n",
    "    pred3 = int(torch.argmax(output3, dim=1))\n",
    "\n",
    "print(gs1_form_dict[pred1], material_dict[pred2], colour_dict[pred3], '\\n')\n",
    "\n",
    "plt.figure(figsize=(3,3))\n",
    "img = mpimg.imread(img_path)\n",
    "imgplot = plt.imshow(img)\n",
    "plt.axis('off')\n",
    "plt.show()"
   ]
  }
 ],
 "metadata": {
  "kernelspec": {
   "display_name": "Python 3 (ipykernel)",
   "language": "python",
   "name": "python3"
  },
  "language_info": {
   "codemirror_mode": {
    "name": "ipython",
    "version": 3
   },
   "file_extension": ".py",
   "mimetype": "text/x-python",
   "name": "python",
   "nbconvert_exporter": "python",
   "pygments_lexer": "ipython3",
   "version": "3.10.8"
  }
 },
 "nbformat": 4,
 "nbformat_minor": 5
}
