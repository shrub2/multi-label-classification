{
 "cells": [
  {
   "cell_type": "code",
   "execution_count": 1,
   "id": "13ca2704-aad1-47e7-bc41-63660377a3b9",
   "metadata": {},
   "outputs": [],
   "source": [
    "import pandas as pd\n",
    "import numpy as np\n",
    "import matplotlib.pyplot as plt\n",
    "import matplotlib.image as mpimg\n",
    "\n",
    "import torch\n",
    "import torchvision\n",
    "import torchvision.transforms as transforms\n",
    "\n",
    "from PIL import Image\n",
    "\n",
    "data_path = \"images/train/\"\n",
    "\n",
    "products = pd.read_csv(\"products.csv\")\n",
    "\n",
    "# label list\n",
    "classes = np.unique(products['GS1 Form'])\n",
    "\n",
    "# Define relevant variables for the ML task\n",
    "batch_size = 64\n",
    "num_classes = len(classes)\n",
    "learning_rate = 0.01\n",
    "num_epochs = 10\n",
    "\n",
    "# normalizing data ...\n",
    "transform = transforms.Compose([transforms.Resize((32,32)),\n",
    "                                     transforms.ToTensor(),\n",
    "                                     transforms.Normalize(mean=[0.4914, 0.4822, 0.4465],\n",
    "                                                          std=[0.2023, 0.1994, 0.2010])\n",
    "                                     ])\n",
    "\n",
    "# Device will determine whether to run the training on GPU or CPU.\n",
    "# device = torch.device('cuda' if torch.cuda.is_available() else 'cpu')\n"
   ]
  },
  {
   "cell_type": "code",
   "execution_count": 66,
   "id": "fc274a1d-4e31-441f-a9e2-a754c060ba8c",
   "metadata": {},
   "outputs": [
    {
     "data": {
      "text/plain": [
       "<torch.utils.data.dataloader.DataLoader at 0x7fa8f60c4430>"
      ]
     },
     "execution_count": 66,
     "metadata": {},
     "output_type": "execute_result"
    }
   ],
   "source": [
    "\"\"\"Loading data with PyTorch\"\"\"\n",
    "\n",
    "# loading data\n",
    "train_data = torchvision.datasets.ImageFolder(root=data_path, \n",
    "                                              transform=transform)\n",
    "\n",
    "train_loader = torch.utils.data.DataLoader(dataset = train_data,\n",
    "                                           batch_size = batch_size,\n",
    "                                           shuffle = True)"
   ]
  },
  {
   "cell_type": "code",
   "execution_count": 49,
   "id": "67ea9297-bf00-4bda-af00-2f493b3c89a9",
   "metadata": {},
   "outputs": [],
   "source": [
    "\"\"\"AI generated CNN\"\"\"\n",
    "\n",
    "# import torch\n",
    "import torch.nn as nn\n",
    "import torch.nn.functional as F\n",
    "\n",
    "class CNN(nn.Module):\n",
    "    def __init__(self):\n",
    "        super(CNN, self).__init__()\n",
    "        self.conv1 = nn.Conv2d(3, 32, 3)\n",
    "        self.conv2 = nn.Conv2d(32, 64, 3)\n",
    "        self.fc1 = nn.Linear(50176, 128)\n",
    "        self.fc2 = nn.Linear(128, num_classes)\n",
    "\n",
    "    def forward(self, x):\n",
    "        x = self.conv1(x)\n",
    "        x = F.relu(x)\n",
    "        x = self.conv2(x)\n",
    "        x = F.relu(x)\n",
    "        \n",
    "        x = x.view(x.size(0), -1)\n",
    "        \n",
    "        x = self.fc1(x)\n",
    "        x = F.relu(x)\n",
    "        x = self.fc2(x)\n",
    "        return x"
   ]
  },
  {
   "cell_type": "code",
   "execution_count": 50,
   "id": "f24fb077-6774-4031-9bfe-eaae434afd3a",
   "metadata": {},
   "outputs": [],
   "source": [
    "\"\"\"AI generated optimizer\"\"\"\n",
    "\n",
    "import torch.optim as optim\n",
    "\n",
    "cnn = CNN() # define your CNN\n",
    "optimizer = optim.Adam(cnn.parameters(), lr=0.001) # define the optimizer"
   ]
  },
  {
   "cell_type": "code",
   "execution_count": 51,
   "id": "28669d0b-2a89-45ce-b33d-9ed29ddc39b0",
   "metadata": {},
   "outputs": [
    {
     "name": "stdout",
     "output_type": "stream",
     "text": [
      "Epoch [1/10], Loss: 1.2298\n",
      "Epoch [2/10], Loss: 0.2977\n",
      "Epoch [3/10], Loss: 0.0090\n",
      "Epoch [4/10], Loss: 0.5318\n",
      "Epoch [5/10], Loss: 0.0679\n",
      "Epoch [6/10], Loss: 0.6999\n",
      "Epoch [7/10], Loss: 0.0364\n",
      "Epoch [8/10], Loss: 0.0020\n",
      "Epoch [9/10], Loss: 0.0041\n",
      "Epoch [10/10], Loss: 0.0008\n"
     ]
    }
   ],
   "source": [
    "\"\"\"Neural network training\"\"\"\n",
    "\n",
    "# We use the pre-defined number of epochs to determine how many iterations to train the network on\n",
    "for epoch in range(num_epochs):\n",
    "\t#Load in the data in batches using the train_loader object\n",
    "    for i, (images, labels) in enumerate(train_loader):  \n",
    "        # Move tensors to the configured device\n",
    "        # images = images.to(device)\n",
    "        # labels = labels.to(device)\n",
    "        \n",
    "        images = images.to()\n",
    "        labels = labels.to()\n",
    "        \n",
    "       # forward pass\n",
    "        output = cnn(images) # pass the input data through the network\n",
    "        loss = F.cross_entropy(output, labels) # compute the cross-entropy loss\n",
    "\n",
    "        # backward pass\n",
    "        optimizer.zero_grad() # zero the gradient buffers\n",
    "        loss.backward() # compute the gradients\n",
    "        optimizer.step() # update the network's parameters\n",
    "\n",
    "\n",
    "    print('Epoch [{}/{}], Loss: {:.4f}'.format(epoch+1, num_epochs, loss.item()))"
   ]
  },
  {
   "cell_type": "code",
   "execution_count": 53,
   "id": "bf1b508e-fb7a-4d2c-9dc3-07636bbda3b7",
   "metadata": {},
   "outputs": [
    {
     "name": "stdout",
     "output_type": "stream",
     "text": [
      "Saved current model.\n"
     ]
    }
   ],
   "source": [
    "# saving model\n",
    "torch.save(cnn.state_dict(), \"models/model_ai.pth\")\n",
    "print(\"Saved current model.\")"
   ]
  },
  {
   "cell_type": "code",
   "execution_count": 79,
   "id": "d612d15c-7d52-4838-ba53-4e3e4d716599",
   "metadata": {},
   "outputs": [],
   "source": [
    "# \"\"\"Network's accuracy\"\"\"\n",
    "\n",
    "# \"\"\"Work in progress\"\"\"\n",
    "\n",
    "# cnn.eval() # put the network into evaluation mode\n",
    "\n",
    "# with torch.no_grad(): # disable gradient calculation\n",
    "#     for images, labels in train_data:\n",
    "        \n",
    "#         # pass the test data through the network\n",
    "#         output = cnn(images)\n",
    "\n",
    "#         # compute the accuracy by comparing the predicted labels to the true labels\n",
    "#         acc = (output.argmax(dim=1) == labels).float().mean()\n",
    "\n",
    "# print('Test accuracy: {:.2f}%'.format(acc * 100))"
   ]
  },
  {
   "cell_type": "code",
   "execution_count": 56,
   "id": "4d17683d-6d39-4ced-ad12-78d4cad677a7",
   "metadata": {},
   "outputs": [
    {
     "data": {
      "text/plain": [
       "<All keys matched successfully>"
      ]
     },
     "execution_count": 56,
     "metadata": {},
     "output_type": "execute_result"
    }
   ],
   "source": [
    "# loading model\n",
    "cnn = CNN()\n",
    "cnn.load_state_dict(torch.load(\"models/model_ai.pth\"))"
   ]
  },
  {
   "cell_type": "code",
   "execution_count": 63,
   "id": "8c40006d-907d-46a8-8592-0d687e069af3",
   "metadata": {},
   "outputs": [
    {
     "name": "stdout",
     "output_type": "stream",
     "text": [
      "bottle \n",
      "\n"
     ]
    },
    {
     "data": {
      "image/png": "[encoded data removed]",
      "text/plain": [
       "<Figure size 300x300 with 1 Axes>"
      ]
     },
     "metadata": {},
     "output_type": "display_data"
    }
   ],
   "source": [
    "# prediction testing\n",
    "\n",
    "img_path = 'images/test/test_6.jpg'\n",
    "\n",
    "img = Image.open(img_path)\n",
    "img = transform(img)\n",
    "img = img.view(1, 3, 32, 32)\n",
    "\n",
    "output = cnn(img)\n",
    "\n",
    "prediction = int(torch.max(output.data, 1)[1].numpy())\n",
    "\n",
    "print(classes[prediction], '\\n')\n",
    "\n",
    "plt.figure(figsize=(3,3))\n",
    "img = mpimg.imread(img_path)\n",
    "imgplot = plt.imshow(img)\n",
    "plt.axis('off')\n",
    "plt.show()"
   ]
  }
 ],
 "metadata": {
  "kernelspec": {
   "display_name": "Python 3 (ipykernel)",
   "language": "python",
   "name": "python3"
  },
  "language_info": {
   "codemirror_mode": {
    "name": "ipython",
    "version": 3
   },
   "file_extension": ".py",
   "mimetype": "text/x-python",
   "name": "python",
   "nbconvert_exporter": "python",
   "pygments_lexer": "ipython3",
   "version": "3.9.7"
  },
  "toc": {
   "base_numbering": 1,
   "nav_menu": {},
   "number_sections": true,
   "sideBar": true,
   "skip_h1_title": false,
   "title_cell": "Table of Contents",
   "title_sidebar": "Contents",
   "toc_cell": false,
   "toc_position": {},
   "toc_section_display": true,
   "toc_window_display": false
  },
  "varInspector": {
   "cols": {
    "lenName": 16,
    "lenType": 16,
    "lenVar": 40
   },
   "kernels_config": {
    "python": {
     "delete_cmd_postfix": "",
     "delete_cmd_prefix": "del ",
     "library": "var_list.py",
     "varRefreshCmd": "print(var_dic_list())"
    },
    "r": {
     "delete_cmd_postfix": ") ",
     "delete_cmd_prefix": "rm(",
     "library": "var_list.r",
     "varRefreshCmd": "cat(var_dic_list()) "
    }
   },
   "types_to_exclude": [
    "module",
    "function",
    "builtin_function_or_method",
    "instance",
    "_Feature"
   ],
   "window_display": false
  }
 },
 "nbformat": 4,
 "nbformat_minor": 5
}
