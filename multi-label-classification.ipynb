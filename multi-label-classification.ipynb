{
 "cells": [
  {
   "cell_type": "code",
   "execution_count": 6,
   "id": "3945d22e-fb50-486c-b72d-1d84b3d23a45",
   "metadata": {},
   "outputs": [],
   "source": [
    "import pandas as pd\n",
    "import numpy as np\n",
    "import matplotlib.pyplot as plt\n",
    "import matplotlib.image as mpimg\n",
    "\n",
    "import torch\n",
    "import torchvision\n",
    "import torchvision.transforms as transforms\n",
    "\n",
    "from PIL import Image\n",
    "\n",
    "data_path = \"images/train/\"\n",
    "\n",
    "products = pd.read_csv(\"products.csv\")\n",
    "\n",
    "# label list\n",
    "classes = np.unique(products['GS1 Form'])\n",
    "\n",
    "# Define relevant variables for the ML task\n",
    "batch_size = 32\n",
    "num_classes = len(classes)\n",
    "learning_rate = 0.001\n",
    "num_epochs = 20\n",
    "\n",
    "# normalizing data ...\n",
    "transform = transforms.Compose([transforms.Resize((32,32)),\n",
    "                                     transforms.ToTensor(),\n",
    "                                     transforms.Normalize(mean=[0.4914, 0.4822, 0.4465],\n",
    "                                                          std=[0.2023, 0.1994, 0.2010])\n",
    "                                     ])\n",
    "\n",
    "# Device will determine whether to run the training on GPU or CPU.\n",
    "# device = torch.device('cuda' if torch.cuda.is_available() else 'cpu')\n"
   ]
  },
  {
   "cell_type": "code",
   "execution_count": 50,
   "id": "28e91ebe-0a1e-45d9-a1a7-9f01e99eedda",
   "metadata": {},
   "outputs": [],
   "source": [
    "\"\"\"Loading data with PyTorch\"\"\"\n",
    "\n",
    "# loading data\n",
    "train_data = torchvision.datasets.ImageFolder(root=data_path, \n",
    "                                              transform=transform)\n",
    "\n",
    "train_loader = torch.utils.data.DataLoader(dataset = train_data,\n",
    "                                           batch_size = batch_size,\n",
    "                                           shuffle = True)"
   ]
  },
  {
   "cell_type": "code",
   "execution_count": 51,
   "id": "e0c79a75-a0d7-45fd-b25e-f392ddb7af07",
   "metadata": {},
   "outputs": [],
   "source": [
    "# \"\"\"Functions to show an image\"\"\"\n",
    "\n",
    "# def imshow(img):\n",
    "#     img = img / 2 + 0.5     # unnormalize\n",
    "#     npimg = img.numpy()\n",
    "#     plt.imshow(np.transpose(npimg, (1, 2, 0)))\n",
    "#     plt.show()\n",
    "\n",
    "# # get some random training images\n",
    "# data_iter = iter(train_loader)\n",
    "# images, labels = next(data_iter)\n",
    "\n",
    "# # show images\n",
    "# imshow(torchvision.utils.make_grid(images))\n",
    "\n",
    "# # print labels\n",
    "# print(' '.join(f'{classes[labels[j]]:5s}' for j in range(batch_size)))"
   ]
  },
  {
   "cell_type": "code",
   "execution_count": 7,
   "id": "095211e3-ba1d-4d65-a127-8a0e97a2ef8a",
   "metadata": {},
   "outputs": [],
   "source": [
    "\"\"\"Convolutional Neural Network\"\"\"\n",
    "\n",
    "import torch.nn as nn\n",
    "import torch.nn.functional as F\n",
    "\n",
    "class Net(nn.Module):\n",
    "\t#  Determine what layers and their order in CNN object \n",
    "    def __init__(self, num_classes):\n",
    "        super(Net, self).__init__()\n",
    "        self.conv_layer1 = nn.Conv2d(in_channels=3, out_channels=32, kernel_size=3)\n",
    "        self.conv_layer2 = nn.Conv2d(in_channels=32, out_channels=32, kernel_size=3)\n",
    "        self.max_pool1 = nn.MaxPool2d(kernel_size = 2, stride = 2)\n",
    "        \n",
    "        self.conv_layer3 = nn.Conv2d(in_channels=32, out_channels=64, kernel_size=3)\n",
    "        self.conv_layer4 = nn.Conv2d(in_channels=64, out_channels=64, kernel_size=3)\n",
    "        self.max_pool2 = nn.MaxPool2d(kernel_size = 2, stride = 2)\n",
    "        \n",
    "        self.fc1 = nn.Linear(1600, 128)\n",
    "        self.relu1 = nn.ReLU()\n",
    "        self.fc2 = nn.Linear(128, num_classes)\n",
    "    \n",
    "    # Progresses data across layers    \n",
    "    def forward(self, x):\n",
    "        out = self.conv_layer1(x)\n",
    "        out = self.conv_layer2(out)\n",
    "        out = self.max_pool1(out)\n",
    "        \n",
    "        out = self.conv_layer3(out)\n",
    "        out = self.conv_layer4(out)\n",
    "        out = self.max_pool2(out)\n",
    "                \n",
    "        out = out.reshape(out.size(0), -1)\n",
    "        \n",
    "        out = self.fc1(out)\n",
    "        out = self.relu1(out)\n",
    "        out = self.fc2(out)\n",
    "        return out"
   ]
  },
  {
   "cell_type": "code",
   "execution_count": 8,
   "id": "14d09562-e2c6-4656-9a87-398dea8c3ea6",
   "metadata": {},
   "outputs": [
    {
     "ename": "NameError",
     "evalue": "name 'train_loader' is not defined",
     "output_type": "error",
     "traceback": [
      "\u001b[0;31m---------------------------------------------------------------------------\u001b[0m",
      "\u001b[0;31mNameError\u001b[0m                                 Traceback (most recent call last)",
      "Cell \u001b[0;32mIn[8], line 19\u001b[0m\n\u001b[1;32m     16\u001b[0m \u001b[38;5;66;03m# Set optimizer with optimizer\u001b[39;00m\n\u001b[1;32m     17\u001b[0m optimizer \u001b[38;5;241m=\u001b[39m torch\u001b[38;5;241m.\u001b[39moptim\u001b[38;5;241m.\u001b[39mSGD(model\u001b[38;5;241m.\u001b[39mparameters(), lr\u001b[38;5;241m=\u001b[39mlearning_rate, weight_decay \u001b[38;5;241m=\u001b[39m \u001b[38;5;241m0.005\u001b[39m, momentum \u001b[38;5;241m=\u001b[39m \u001b[38;5;241m0.9\u001b[39m)  \n\u001b[0;32m---> 19\u001b[0m total_step \u001b[38;5;241m=\u001b[39m \u001b[38;5;28mlen\u001b[39m(\u001b[43mtrain_loader\u001b[49m)\n",
      "\u001b[0;31mNameError\u001b[0m: name 'train_loader' is not defined"
     ]
    }
   ],
   "source": [
    "\"\"\"This is our Loss function (and optimizer)\"\"\"\n",
    "\"\"\"Classification Cross-Entropy loss and SGD with momentum\"\"\"\n",
    "\n",
    "\"\"\"Lets use this for now, but later change it to something different\"\"\"\n",
    "\n",
    "import torch.optim as optim\n",
    "\n",
    "model = Net(num_classes)\n",
    "\n",
    "# if torch.cuda.is_available():\n",
    "#     model.cuda()\n",
    "\n",
    "# Set Loss function with criterion\n",
    "criterion = nn.CrossEntropyLoss()\n",
    "\n",
    "# Set optimizer with optimizer\n",
    "optimizer = torch.optim.SGD(model.parameters(), lr=learning_rate, weight_decay = 0.005, momentum = 0.9)  \n",
    "\n",
    "total_step = len(train_loader)"
   ]
  },
  {
   "cell_type": "code",
   "execution_count": 54,
   "id": "59211394-e50b-4b9c-8a19-9170d01afba8",
   "metadata": {},
   "outputs": [
    {
     "name": "stdout",
     "output_type": "stream",
     "text": [
      "Epoch [1/20], Loss: 2.5771\n",
      "Epoch [2/20], Loss: 2.6020\n",
      "Epoch [3/20], Loss: 2.4244\n",
      "Epoch [4/20], Loss: 1.9739\n",
      "Epoch [5/20], Loss: 2.5688\n",
      "Epoch [6/20], Loss: 1.7747\n",
      "Epoch [7/20], Loss: 0.9567\n",
      "Epoch [8/20], Loss: 0.9566\n",
      "Epoch [9/20], Loss: 0.6437\n",
      "Epoch [10/20], Loss: 1.8674\n",
      "Epoch [11/20], Loss: 2.5631\n",
      "Epoch [12/20], Loss: 2.4833\n",
      "Epoch [13/20], Loss: 1.1076\n",
      "Epoch [14/20], Loss: 1.7388\n",
      "Epoch [15/20], Loss: 1.1920\n",
      "Epoch [16/20], Loss: 2.2894\n",
      "Epoch [17/20], Loss: 2.8132\n",
      "Epoch [18/20], Loss: 0.9556\n",
      "Epoch [19/20], Loss: 1.3166\n",
      "Epoch [20/20], Loss: 2.1169\n"
     ]
    }
   ],
   "source": [
    "\"\"\"Neural network training\"\"\"\n",
    "\n",
    "# We use the pre-defined number of epochs to determine how many iterations to train the network on\n",
    "for epoch in range(num_epochs):\n",
    "\t#Load in the data in batches using the train_loader object\n",
    "    for i, (images, labels) in enumerate(train_loader):  \n",
    "        # Move tensors to the configured device\n",
    "        # images = images.to(device)\n",
    "        # labels = labels.to(device)\n",
    "        \n",
    "        images = images.to()\n",
    "        labels = labels.to()\n",
    "        \n",
    "        # Forward pass\n",
    "        outputs = model(images)\n",
    "        loss = criterion(outputs, labels)\n",
    "        \n",
    "        # Backward and optimize\n",
    "        optimizer.zero_grad()\n",
    "        loss.backward()\n",
    "        optimizer.step()\n",
    "\n",
    "    print('Epoch [{}/{}], Loss: {:.4f}'.format(epoch+1, num_epochs, loss.item()))"
   ]
  },
  {
   "cell_type": "code",
   "execution_count": 55,
   "id": "335cd45c-ae64-411a-85d9-98db8e5c4282",
   "metadata": {},
   "outputs": [
    {
     "name": "stdout",
     "output_type": "stream",
     "text": [
      "Saved current model.\n"
     ]
    }
   ],
   "source": [
    "# saving model\n",
    "torch.save(model.state_dict(), \"models/model_batch_x.pth\")\n",
    "print(\"Saved current model.\")"
   ]
  },
  {
   "cell_type": "code",
   "execution_count": 11,
   "id": "9718f3bf-3076-4557-b53c-7be9a8e135b0",
   "metadata": {},
   "outputs": [
    {
     "ename": "NameError",
     "evalue": "name 'train_loader' is not defined",
     "output_type": "error",
     "traceback": [
      "\u001b[0;31m---------------------------------------------------------------------------\u001b[0m",
      "\u001b[0;31mNameError\u001b[0m                                 Traceback (most recent call last)",
      "Cell \u001b[0;32mIn[11], line 4\u001b[0m\n\u001b[1;32m      2\u001b[0m correct \u001b[38;5;241m=\u001b[39m \u001b[38;5;241m0\u001b[39m\n\u001b[1;32m      3\u001b[0m total \u001b[38;5;241m=\u001b[39m \u001b[38;5;241m0\u001b[39m\n\u001b[0;32m----> 4\u001b[0m \u001b[38;5;28;01mfor\u001b[39;00m images, labels \u001b[38;5;129;01min\u001b[39;00m \u001b[43mtrain_loader\u001b[49m:\n\u001b[1;32m      5\u001b[0m     \u001b[38;5;66;03m# images = images.to(device)\u001b[39;00m\n\u001b[1;32m      6\u001b[0m     \u001b[38;5;66;03m# labels = labels.to(device)\u001b[39;00m\n\u001b[1;32m      8\u001b[0m     images \u001b[38;5;241m=\u001b[39m images\u001b[38;5;241m.\u001b[39mto()\n\u001b[1;32m      9\u001b[0m     labels \u001b[38;5;241m=\u001b[39m labels\u001b[38;5;241m.\u001b[39mto()\n",
      "\u001b[0;31mNameError\u001b[0m: name 'train_loader' is not defined"
     ]
    }
   ],
   "source": [
    "with torch.no_grad():\n",
    "    correct = 0\n",
    "    total = 0\n",
    "    for images, labels in train_loader:\n",
    "        # images = images.to(device)\n",
    "        # labels = labels.to(device)\n",
    "        \n",
    "        images = images.to()\n",
    "        labels = labels.to()\n",
    "        \n",
    "        outputs = model(images)\n",
    "        _, predicted = torch.max(outputs.data, 1)\n",
    "        total += labels.size(0)\n",
    "        correct += (predicted == labels).sum().item()\n",
    "    \n",
    "    print('Accuracy of the network on the {} train images: {} %'.format(len(products), 100 * correct / total))"
   ]
  },
  {
   "cell_type": "code",
   "execution_count": 9,
   "id": "4a0e55ec-0620-4111-8bb9-52d06dc4b547",
   "metadata": {},
   "outputs": [
    {
     "data": {
      "text/plain": [
       "<All keys matched successfully>"
      ]
     },
     "execution_count": 9,
     "metadata": {},
     "output_type": "execute_result"
    }
   ],
   "source": [
    "# loading model\n",
    "model = Net(num_classes)\n",
    "model.load_state_dict(torch.load(\"models/model_batch128.pth\"))"
   ]
  },
  {
   "cell_type": "code",
   "execution_count": 17,
   "id": "8cb10b6c-8153-45d7-924e-a8431790e1d9",
   "metadata": {},
   "outputs": [
    {
     "name": "stdout",
     "output_type": "stream",
     "text": [
      "tray \n",
      "\n"
     ]
    },
    {
     "data": {
      "image/png": "[encoded data removed]",
      "text/plain": [
       "<Figure size 300x300 with 1 Axes>"
      ]
     },
     "metadata": {},
     "output_type": "display_data"
    }
   ],
   "source": [
    "# prediction testing\n",
    "\n",
    "img_path = 'images/test/a.webp'\n",
    "\n",
    "img = Image.open(img_path)\n",
    "img = transform(img)\n",
    "img = img.view(1, 3, 32, 32)\n",
    "\n",
    "output = model(img)\n",
    "\n",
    "prediction = int(torch.max(output.data, 1)[1].numpy())\n",
    "\n",
    "print(classes[prediction], '\\n')\n",
    "\n",
    "plt.figure(figsize=(3,3))\n",
    "img = mpimg.imread(img_path)\n",
    "imgplot = plt.imshow(img)\n",
    "plt.axis('off')\n",
    "plt.show()"
   ]
  }
 ],
 "metadata": {
  "kernelspec": {
   "display_name": "Python 3 (ipykernel)",
   "language": "python",
   "name": "python3"
  },
  "language_info": {
   "codemirror_mode": {
    "name": "ipython",
    "version": 3
   },
   "file_extension": ".py",
   "mimetype": "text/x-python",
   "name": "python",
   "nbconvert_exporter": "python",
   "pygments_lexer": "ipython3",
   "version": "3.10.8"
  }
 },
 "nbformat": 4,
 "nbformat_minor": 5
}
