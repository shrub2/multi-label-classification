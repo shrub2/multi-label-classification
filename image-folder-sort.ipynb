{
 "cells": [
  {
   "cell_type": "code",
   "execution_count": 14,
   "id": "5764eb4d-7adf-4c6d-b858-df3ce4e6e15e",
   "metadata": {},
   "outputs": [],
   "source": [
    "import pandas as pd\n",
    "import numpy as np\n",
    "import csv\n",
    "\n",
    "data_path = 'images/train/'\n",
    "\n",
    "products = pd.read_csv('products.csv')\n",
    "\n",
    "\"\"\"Some functions that help with labeling\"\"\"\n",
    "\n",
    "# get filename function\n",
    "# IMPORTANT check if the correct path is replaced\n",
    "def getBarcode(dataset, number):\n",
    "    barcode = dataset.imgs[number][0];\n",
    "    barcode = barcode.replace('.jpg', '')\n",
    "    barcode = barcode.replace('images/train/', '')\n",
    "    return int(barcode)\n",
    "\n",
    "# search_val: is the value we look for in the csv file\n",
    "# csv_col: is the column in which the value should be found\n",
    "# classifier: is the column's value we need in output\n",
    "def getClass(search_val, csv_file, csv_col, classifier):\n",
    "    for i in range(len(csv_file)):\n",
    "        if csv_file[csv_col][i] == search_val:\n",
    "            matching_class = csv_file[classifier][i]\n",
    "            break\n",
    "        else:\n",
    "            matching_class = 'class not found'\n",
    "    return matching_class"
   ]
  },
  {
   "cell_type": "code",
   "execution_count": 15,
   "id": "00dc77be-773d-45d0-b8bf-09b3c43e913f",
   "metadata": {},
   "outputs": [],
   "source": [
    "\"\"\"Sorting files and data\"\"\"\n",
    "\n",
    "import os\n",
    "import re\n",
    "\n",
    "files = os.listdir(data_path)\n",
    "files.sort(key=lambda f: int(re.sub('\\D', '', f)))\n",
    "\n",
    "sortedFilenames = []\n",
    "\n",
    "for filename in files:\n",
    "    sortedFilenames.append(int(os.path.splitext(filename)[0]))\n",
    "    # print(os.path.splitext(filename)[0])\n",
    "\n",
    "# classifier is a string\n",
    "def sortedClassList(classifier):\n",
    "    sortedList = []\n",
    "    for i in range(len(products)):\n",
    "        sortedList.append((products['Barcode'][i], products[classifier][i]))\n",
    "    sortedList.sort()\n",
    "    return sortedList\n",
    "\n",
    "sortedList = sortedClassList('GS1 Form')\n",
    "\n",
    "sortedBarcodes = [i[0] for i in sortedList]\n",
    "\n",
    "missing_file = list(set(sortedFilenames) - set(sortedBarcodes))\n",
    "\n",
    "# getClass(missing_file, products, 'Barcode', 'GS1 Form')\n",
    "\n",
    "# print(missing_file)"
   ]
  },
  {
   "cell_type": "code",
   "execution_count": 16,
   "id": "472e492b-fbb3-4c2d-afc8-3bfc1b207438",
   "metadata": {},
   "outputs": [],
   "source": [
    "\"\"\"Sorts files into folder categories\"\"\"\n",
    "\n",
    "from pathlib import Path\n",
    "import shutil\n",
    "\n",
    "column = 'GS1 Form'\n",
    "sortedList = sortedClassList(column)\n",
    "\n",
    "for i in range(len(sortedList)):\n",
    "    # creates new folder if does not exist\n",
    "    new_path = data_path + sortedList[i][1]\n",
    "    Path(new_path).mkdir(parents=True, exist_ok=True)\n",
    "    \n",
    "    # relocates files\n",
    "    current_file = data_path + files[i]\n",
    "    future_file = new_path + '/' + files[i]\n",
    "    shutil.move(current_file, future_file)"
   ]
  }
 ],
 "metadata": {
  "kernelspec": {
   "display_name": "Python 3 (ipykernel)",
   "language": "python",
   "name": "python3"
  },
  "language_info": {
   "codemirror_mode": {
    "name": "ipython",
    "version": 3
   },
   "file_extension": ".py",
   "mimetype": "text/x-python",
   "name": "python",
   "nbconvert_exporter": "python",
   "pygments_lexer": "ipython3",
   "version": "3.10.8"
  }
 },
 "nbformat": 4,
 "nbformat_minor": 5
}
